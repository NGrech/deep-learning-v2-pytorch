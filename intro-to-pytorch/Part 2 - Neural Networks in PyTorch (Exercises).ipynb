{
 "cells": [
  {
   "cell_type": "markdown",
   "metadata": {},
   "source": [
    "# Neural networks with PyTorch\n",
    "\n",
    "Deep learning networks tend to be massive with dozens or hundreds of layers, that's where the term \"deep\" comes from. You can build one of these deep networks using only weight matrices as we did in the previous notebook, but in general it's very cumbersome and difficult to implement. PyTorch has a nice module `nn` that provides a nice way to efficiently build large neural networks."
   ]
  },
  {
   "cell_type": "code",
   "execution_count": 13,
   "metadata": {},
   "outputs": [],
   "source": [
    "%config IPCompleter.greedy=True\n",
    "# Import necessary packages\n",
    "\n",
    "%matplotlib inline\n",
    "%config InlineBackend.figure_format = 'retina'\n",
    "\n",
    "import numpy as np\n",
    "import torch\n",
    "\n",
    "import helper\n",
    "\n",
    "import matplotlib.pyplot as plt\n",
    "\n"
   ]
  },
  {
   "cell_type": "markdown",
   "metadata": {},
   "source": [
    "\n",
    "Now we're going to build a larger network that can solve a (formerly) difficult problem, identifying text in an image. Here we'll use the MNIST dataset which consists of greyscale handwritten digits. Each image is 28x28 pixels, you can see a sample below\n",
    "\n",
    "<img src='assets/mnist.png'>\n",
    "\n",
    "Our goal is to build a neural network that can take one of these images and predict the digit in the image.\n",
    "\n",
    "First up, we need to get our dataset. This is provided through the `torchvision` package. The code below will download the MNIST dataset, then create training and test datasets for us. Don't worry too much about the details here, you'll learn more about this later."
   ]
  },
  {
   "cell_type": "code",
   "execution_count": 2,
   "metadata": {},
   "outputs": [],
   "source": [
    "### Run this cell\n",
    "\n",
    "from torchvision import datasets, transforms\n",
    "\n",
    "# Define a transform to normalize the data\n",
    "transform = transforms.Compose([transforms.ToTensor(),\n",
    "                              transforms.Normalize((0.5,), (0.5,)),\n",
    "                              ])\n",
    "\n",
    "# Download and load the training data\n",
    "trainset = datasets.MNIST('~/.pytorch/MNIST_data/', download=True, train=True, transform=transform)\n",
    "trainloader = torch.utils.data.DataLoader(trainset, batch_size=64, shuffle=True)"
   ]
  },
  {
   "cell_type": "markdown",
   "metadata": {},
   "source": [
    "We have the training data loaded into `trainloader` and we make that an iterator with `iter(trainloader)`. Later, we'll use this to loop through the dataset for training, like\n",
    "\n",
    "```python\n",
    "for image, label in trainloader:\n",
    "    ## do things with images and labels\n",
    "```\n",
    "\n",
    "You'll notice I created the `trainloader` with a batch size of 64, and `shuffle=True`. The batch size is the number of images we get in one iteration from the data loader and pass through our network, often called a *batch*. And `shuffle=True` tells it to shuffle the dataset every time we start going through the data loader again. But here I'm just grabbing the first batch so we can check out the data. We can see below that `images` is just a tensor with size `(64, 1, 28, 28)`. So, 64 images per batch, 1 color channel, and 28x28 images."
   ]
  },
  {
   "cell_type": "code",
   "execution_count": 3,
   "metadata": {},
   "outputs": [
    {
     "name": "stdout",
     "output_type": "stream",
     "text": [
      "<class 'torch.Tensor'>\n",
      "torch.Size([64, 1, 28, 28])\n",
      "torch.Size([64])\n"
     ]
    }
   ],
   "source": [
    "dataiter = iter(trainloader)\n",
    "images, labels = dataiter.next()\n",
    "print(type(images))\n",
    "print(images.shape)\n",
    "print(labels.shape)"
   ]
  },
  {
   "cell_type": "markdown",
   "metadata": {},
   "source": [
    "This is what one of the images looks like. "
   ]
  },
  {
   "cell_type": "code",
   "execution_count": 4,
   "metadata": {},
   "outputs": [
    {
     "data": {
      "image/png": "[encoded data removed]",
      "text/plain": [
       "<Figure size 432x288 with 1 Axes>"
      ]
     },
     "metadata": {
      "image/png": {
       "height": 248,
       "width": 251
      },
      "needs_background": "light"
     },
     "output_type": "display_data"
    }
   ],
   "source": [
    "plt.imshow(images[1].numpy().squeeze(), cmap='Greys_r');"
   ]
  },
  {
   "cell_type": "markdown",
   "metadata": {},
   "source": [
    "First, let's try to build a simple network for this dataset using weight matrices and matrix multiplications. Then, we'll see how to do it using PyTorch's `nn` module which provides a much more convenient and powerful method for defining network architectures.\n",
    "\n",
    "The networks you've seen so far are called *fully-connected* or *dense* networks. Each unit in one layer is connected to each unit in the next layer. In fully-connected networks, the input to each layer must be a one-dimensional vector (which can be stacked into a 2D tensor as a batch of multiple examples). However, our images are 28x28 2D tensors, so we need to convert them into 1D vectors. Thinking about sizes, we need to convert the batch of images with shape `(64, 1, 28, 28)` to a have a shape of `(64, 784)`, 784 is 28 times 28. This is typically called *flattening*, we flattened the 2D images into 1D vectors.\n",
    "\n",
    "Previously you built a network with one output unit. Here we need 10 output units, one for each digit. We want our network to predict the digit shown in an image, so what we'll do is calculate probabilities that the image is of any one digit or class. This ends up being a discrete probability distribution over the classes (digits) that tells us the most likely class for the image. That means we need 10 output units for the 10 classes (digits). We'll see how to convert the network output into a probability distribution next.\n",
    "\n",
    "> **Exercise:** Flatten the batch of images `images`. Then build a multi-layer network with 784 input units, 256 hidden units, and 10 output units using random tensors for the weights and biases. For now, use a sigmoid activation for the hidden layer. Leave the output layer without an activation, we'll add one that gives us a probability distribution next."
   ]
  },
  {
   "cell_type": "code",
   "execution_count": 5,
   "metadata": {},
   "outputs": [
    {
     "data": {
      "text/plain": [
       "tensor([[-1., -1., -1.,  ..., -1., -1., -1.],\n",
       "        [-1., -1., -1.,  ..., -1., -1., -1.],\n",
       "        [-1., -1., -1.,  ..., -1., -1., -1.],\n",
       "        ...,\n",
       "        [-1., -1., -1.,  ..., -1., -1., -1.],\n",
       "        [-1., -1., -1.,  ..., -1., -1., -1.],\n",
       "        [-1., -1., -1.,  ..., -1., -1., -1.]])"
      ]
     },
     "execution_count": 5,
     "metadata": {},
     "output_type": "execute_result"
    }
   ],
   "source": [
    "images.view(images.size()[0], -1)"
   ]
  },
  {
   "cell_type": "code",
   "execution_count": 6,
   "metadata": {},
   "outputs": [
    {
     "data": {
      "text/plain": [
       "tensor([[9.4631e-02, 1.3589e-03, 6.2584e-01, 3.1058e-01, 9.9628e-01, 1.9780e-02,\n",
       "         9.2410e-06, 1.0295e-01, 1.0000e+00, 1.1658e-01],\n",
       "        [1.4734e-07, 5.8859e-05, 3.4799e-01, 9.9984e-01, 5.1425e-01, 6.0476e-01,\n",
       "         3.2864e-06, 9.9819e-01, 1.0000e+00, 1.7650e-02],\n",
       "        [6.4728e-01, 9.3917e-08, 2.4629e-02, 9.9999e-01, 9.9843e-01, 4.5048e-02,\n",
       "         7.6223e-04, 9.9233e-01, 1.0000e+00, 9.9779e-01],\n",
       "        [9.9297e-01, 2.3681e-01, 1.6154e-02, 1.0000e+00, 1.8926e-02, 3.6280e-04,\n",
       "         3.5967e-07, 9.7897e-01, 1.0000e+00, 4.0888e-01],\n",
       "        [6.6934e-01, 3.2093e-05, 7.4043e-01, 9.9965e-01, 9.7003e-01, 9.2738e-06,\n",
       "         9.9902e-02, 2.0572e-02, 1.0000e+00, 1.6016e-02],\n",
       "        [8.6855e-03, 3.6047e-09, 9.7080e-01, 1.0000e+00, 4.5204e-01, 1.9407e-02,\n",
       "         4.3427e-07, 8.7555e-01, 1.0000e+00, 2.1220e-01],\n",
       "        [6.3274e-03, 8.3147e-04, 6.2379e-04, 9.9411e-01, 9.9070e-01, 9.9010e-01,\n",
       "         7.0507e-04, 9.2749e-01, 9.6691e-01, 9.8450e-01],\n",
       "        [1.0016e-01, 3.3577e-07, 3.1603e-07, 9.9684e-01, 9.5270e-01, 5.4232e-01,\n",
       "         2.2279e-04, 9.2040e-01, 1.0000e+00, 9.2292e-01],\n",
       "        [7.8570e-01, 1.8488e-05, 2.1494e-06, 1.0000e+00, 9.7814e-01, 1.6199e-02,\n",
       "         2.2038e-05, 7.9790e-01, 1.0000e+00, 3.7821e-01],\n",
       "        [8.9549e-02, 4.0112e-07, 8.6127e-01, 9.9981e-01, 7.6248e-03, 1.3725e-07,\n",
       "         1.3966e-07, 9.8791e-01, 9.9969e-01, 9.9368e-01],\n",
       "        [5.7807e-01, 3.2902e-03, 5.1579e-02, 9.9965e-01, 3.5082e-01, 8.9559e-03,\n",
       "         7.7293e-01, 9.4930e-01, 1.0000e+00, 5.5641e-01],\n",
       "        [9.9822e-01, 8.1490e-02, 9.9986e-01, 9.9997e-01, 3.4310e-02, 4.7631e-07,\n",
       "         2.1708e-02, 2.2045e-01, 9.9999e-01, 9.9950e-01],\n",
       "        [9.6695e-01, 2.0448e-06, 1.6363e-03, 8.2387e-01, 9.9825e-01, 1.3459e-02,\n",
       "         5.6568e-04, 9.7610e-01, 1.0000e+00, 9.3346e-01],\n",
       "        [1.9297e-02, 5.0448e-05, 1.2768e-04, 9.9896e-01, 9.9955e-01, 9.9273e-01,\n",
       "         2.2303e-04, 9.9998e-01, 9.9991e-01, 6.4179e-02],\n",
       "        [5.1926e-02, 1.3482e-04, 9.6970e-01, 1.0000e+00, 9.7827e-01, 7.7100e-03,\n",
       "         3.9222e-06, 6.9818e-01, 9.9997e-01, 6.9830e-01],\n",
       "        [5.6013e-03, 2.4263e-01, 1.1353e-02, 7.4786e-01, 9.9736e-01, 1.3343e-02,\n",
       "         6.3679e-01, 9.9949e-01, 1.0000e+00, 2.0055e-01],\n",
       "        [1.6686e-02, 2.2144e-01, 2.9538e-05, 9.9997e-01, 9.9689e-01, 5.4646e-02,\n",
       "         1.8168e-08, 9.4695e-01, 1.0000e+00, 1.9789e-04],\n",
       "        [2.0125e-02, 1.7763e-02, 4.3580e-07, 9.6013e-01, 9.7525e-01, 9.8466e-01,\n",
       "         1.2830e-04, 9.7076e-01, 9.8248e-01, 9.9988e-01],\n",
       "        [5.3328e-03, 3.4472e-02, 9.2052e-01, 9.9719e-01, 5.5919e-01, 2.6322e-01,\n",
       "         6.7398e-02, 9.9968e-01, 1.0000e+00, 8.3207e-01],\n",
       "        [5.2622e-04, 4.5852e-06, 4.5253e-02, 9.9995e-01, 9.9850e-01, 7.8559e-01,\n",
       "         1.4496e-06, 3.3909e-02, 1.0000e+00, 5.1073e-01],\n",
       "        [1.8349e-05, 1.3511e-01, 9.7568e-01, 9.9995e-01, 4.5400e-01, 1.3604e-05,\n",
       "         1.7843e-08, 9.9467e-01, 1.0000e+00, 7.9353e-01],\n",
       "        [8.3794e-01, 8.0497e-04, 4.9840e-04, 1.0000e+00, 9.9999e-01, 2.3876e-02,\n",
       "         1.2859e-04, 9.9072e-01, 1.0000e+00, 1.0000e+00],\n",
       "        [1.5379e-02, 2.6075e-05, 1.3131e-02, 1.0000e+00, 5.4109e-03, 1.3735e-01,\n",
       "         3.0127e-02, 5.0466e-01, 1.0000e+00, 7.4050e-02],\n",
       "        [9.9997e-01, 1.3833e-09, 2.8759e-05, 9.9992e-01, 9.9999e-01, 9.9452e-01,\n",
       "         2.1534e-06, 9.8977e-01, 1.0000e+00, 2.1351e-03],\n",
       "        [3.2591e-01, 9.1994e-01, 2.2318e-02, 5.8828e-01, 9.9560e-01, 9.6769e-01,\n",
       "         1.6668e-03, 6.3716e-01, 1.0000e+00, 2.2725e-05],\n",
       "        [9.2921e-01, 1.2243e-03, 2.3520e-01, 9.9995e-01, 9.1336e-01, 5.9112e-02,\n",
       "         2.0601e-05, 9.9993e-01, 1.0000e+00, 9.9479e-01],\n",
       "        [9.9784e-01, 2.7594e-06, 9.2273e-01, 9.9989e-01, 9.9927e-01, 2.1588e-03,\n",
       "         1.1099e-06, 8.7436e-01, 1.0000e+00, 2.7446e-01],\n",
       "        [1.8612e-02, 1.0164e-05, 5.0022e-04, 9.9963e-01, 9.9932e-01, 1.5588e-01,\n",
       "         4.6767e-02, 6.4843e-02, 8.9169e-01, 9.8033e-01],\n",
       "        [2.0218e-04, 5.4392e-07, 8.7985e-01, 1.0000e+00, 9.1404e-01, 1.2139e-04,\n",
       "         2.6900e-08, 7.3493e-01, 1.0000e+00, 7.2341e-01],\n",
       "        [2.2650e-01, 5.8135e-01, 8.3223e-01, 9.9934e-01, 9.6390e-01, 1.9854e-02,\n",
       "         9.3522e-07, 6.1518e-02, 1.0000e+00, 4.2404e-01],\n",
       "        [9.5202e-03, 4.9816e-06, 9.9996e-01, 9.9942e-01, 9.7669e-01, 3.6550e-05,\n",
       "         1.2143e-08, 1.1528e-01, 1.0000e+00, 5.3798e-03],\n",
       "        [9.9667e-01, 1.2468e-02, 2.0980e-04, 9.7772e-01, 8.6093e-01, 3.6785e-02,\n",
       "         1.1510e-04, 2.4561e-01, 9.9999e-01, 9.8327e-01],\n",
       "        [2.1593e-05, 8.0637e-03, 9.7170e-01, 9.9331e-01, 4.1778e-02, 3.7723e-02,\n",
       "         5.2701e-10, 9.1792e-02, 1.0000e+00, 9.9162e-01],\n",
       "        [4.6665e-02, 1.7932e-05, 4.1994e-06, 1.0000e+00, 1.1434e-01, 8.0081e-03,\n",
       "         1.0613e-06, 8.3305e-01, 1.0000e+00, 1.4286e-01],\n",
       "        [4.7976e-06, 4.1854e-01, 1.3399e-02, 1.0000e+00, 9.9895e-01, 1.4625e-02,\n",
       "         1.7175e-06, 4.5361e-01, 1.0000e+00, 9.9858e-01],\n",
       "        [1.7633e-02, 8.5345e-04, 5.9737e-01, 9.9999e-01, 9.5542e-01, 8.6324e-01,\n",
       "         1.3505e-05, 9.9602e-01, 9.9978e-01, 2.4810e-01],\n",
       "        [4.2059e-02, 5.3405e-04, 4.0581e-04, 9.9834e-01, 9.9601e-01, 6.0418e-01,\n",
       "         2.4648e-03, 9.9997e-01, 1.0000e+00, 9.6069e-01],\n",
       "        [2.2660e-04, 5.0585e-03, 3.6043e-04, 8.3838e-01, 9.9948e-01, 8.6521e-01,\n",
       "         5.8765e-06, 1.0000e+00, 1.0000e+00, 7.0375e-01],\n",
       "        [1.3010e-03, 8.2154e-06, 8.4486e-01, 1.0000e+00, 9.7956e-01, 1.0593e-04,\n",
       "         1.9340e-07, 8.8089e-01, 1.0000e+00, 2.7395e-02],\n",
       "        [9.9999e-01, 4.7586e-03, 1.0361e-03, 1.0000e+00, 9.9982e-01, 8.2618e-08,\n",
       "         8.0442e-08, 8.2800e-01, 1.0000e+00, 1.8677e-03],\n",
       "        [2.4606e-01, 3.7375e-07, 2.9659e-02, 9.9998e-01, 9.8332e-01, 6.6585e-07,\n",
       "         4.3375e-04, 2.7185e-01, 1.0000e+00, 9.8393e-01],\n",
       "        [2.0545e-01, 9.6084e-04, 9.9776e-01, 9.9984e-01, 9.9991e-01, 8.2467e-03,\n",
       "         4.7069e-03, 8.3466e-03, 9.9987e-01, 4.5255e-01],\n",
       "        [2.5600e-02, 1.0669e-02, 3.2698e-01, 1.0000e+00, 9.9081e-01, 9.8339e-01,\n",
       "         2.2868e-01, 9.8136e-01, 1.0000e+00, 9.7364e-01],\n",
       "        [9.9252e-01, 8.3087e-07, 7.1743e-04, 9.9998e-01, 9.9986e-01, 9.9994e-01,\n",
       "         2.5689e-04, 9.9970e-01, 1.0000e+00, 2.7428e-03],\n",
       "        [8.2534e-02, 1.1473e-03, 2.3487e-06, 9.9968e-01, 9.9940e-01, 7.6004e-03,\n",
       "         1.9836e-02, 6.9555e-01, 9.9997e-01, 1.9439e-01],\n",
       "        [2.3435e-02, 1.7248e-04, 1.9556e-05, 9.9989e-01, 9.8792e-01, 9.9951e-01,\n",
       "         1.8860e-02, 7.5817e-01, 9.9999e-01, 1.1441e-02],\n",
       "        [4.8593e-03, 2.5433e-08, 8.8837e-04, 1.0000e+00, 1.0000e+00, 1.3021e-01,\n",
       "         3.7623e-02, 3.9176e-02, 1.0000e+00, 2.4576e-02],\n",
       "        [3.0025e-01, 7.7236e-06, 3.4064e-03, 1.0000e+00, 3.1431e-01, 1.8845e-01,\n",
       "         5.8702e-06, 9.9995e-01, 1.0000e+00, 8.3920e-02],\n",
       "        [9.9996e-01, 8.3208e-05, 1.3711e-04, 9.9985e-01, 9.5941e-01, 9.4662e-01,\n",
       "         5.2337e-05, 9.3597e-01, 1.0000e+00, 9.9868e-01],\n",
       "        [9.9688e-01, 4.6496e-04, 3.9469e-05, 8.8723e-01, 9.6953e-01, 1.1338e-04,\n",
       "         1.3716e-01, 8.1905e-03, 1.0000e+00, 7.2490e-03],\n",
       "        [9.9838e-02, 2.9429e-05, 1.6038e-02, 9.9999e-01, 7.9729e-01, 1.1549e-01,\n",
       "         1.2512e-06, 9.9995e-01, 9.9995e-01, 3.3074e-02],\n",
       "        [6.1853e-01, 2.2045e-08, 9.4442e-01, 9.9936e-01, 9.9966e-01, 2.1393e-03,\n",
       "         7.5013e-01, 9.8609e-01, 7.3352e-01, 4.2813e-02],\n",
       "        [6.0543e-03, 5.0012e-05, 9.9856e-01, 1.0000e+00, 9.9971e-01, 3.2804e-01,\n",
       "         2.1859e-05, 1.5523e-01, 1.0000e+00, 1.4601e-03],\n",
       "        [9.9958e-01, 8.5672e-10, 1.3247e-04, 1.0000e+00, 9.8603e-01, 9.8095e-01,\n",
       "         9.5119e-08, 6.7720e-01, 1.0000e+00, 9.8314e-01],\n",
       "        [2.6466e-06, 6.7610e-06, 1.2687e-01, 5.0865e-01, 9.8391e-01, 6.7088e-01,\n",
       "         8.8396e-03, 2.9052e-01, 1.0000e+00, 8.5275e-06],\n",
       "        [9.9987e-01, 5.0400e-01, 2.1881e-02, 9.9998e-01, 9.9996e-01, 9.9478e-01,\n",
       "         6.2988e-06, 3.0231e-01, 1.0000e+00, 9.9326e-01],\n",
       "        [9.9991e-01, 1.5854e-06, 2.2003e-05, 1.0000e+00, 8.8474e-01, 2.8132e-07,\n",
       "         7.6809e-03, 6.5473e-01, 1.0000e+00, 9.8981e-01],\n",
       "        [1.9499e-01, 3.6328e-05, 9.9989e-01, 1.0000e+00, 9.6798e-01, 3.2607e-01,\n",
       "         3.0889e-09, 4.2459e-02, 1.0000e+00, 4.7041e-01],\n",
       "        [5.6649e-04, 3.8217e-04, 6.8884e-01, 1.0000e+00, 1.5975e-01, 1.0868e-09,\n",
       "         7.7801e-07, 3.9424e-04, 1.0000e+00, 1.3827e-01],\n",
       "        [3.2832e-03, 1.2360e-01, 4.1494e-01, 1.0000e+00, 9.9999e-01, 6.4312e-01,\n",
       "         7.1221e-04, 5.0101e-01, 1.0000e+00, 9.8913e-01],\n",
       "        [9.7796e-01, 1.2932e-02, 8.9928e-01, 9.8949e-01, 9.9996e-01, 8.1872e-01,\n",
       "         1.1632e-04, 7.9415e-01, 1.0000e+00, 2.3336e-03],\n",
       "        [1.8512e-03, 5.7592e-06, 5.6634e-04, 1.0000e+00, 9.9674e-01, 2.4286e-03,\n",
       "         8.0662e-04, 1.8151e-02, 1.0000e+00, 1.9165e-01],\n",
       "        [9.9998e-01, 4.6671e-07, 1.8743e-02, 1.0000e+00, 6.5953e-01, 7.2991e-01,\n",
       "         3.5838e-04, 4.5397e-03, 1.0000e+00, 5.6212e-01],\n",
       "        [1.1821e-05, 1.6008e-03, 3.5502e-03, 9.9959e-01, 3.9305e-01, 9.4574e-01,\n",
       "         1.3487e-06, 9.2382e-01, 1.0000e+00, 2.6863e-03]])"
      ]
     },
     "execution_count": 6,
     "metadata": {},
     "output_type": "execute_result"
    }
   ],
   "source": [
    "## Your solution\n",
    "activation = lambda x: 1/(1+torch.exp(-x))\n",
    "\n",
    "inputs = images.view(images.size()[0], -1)\n",
    "W1 = torch.randn(784, 256)\n",
    "W2 = torch.randn(256, 10)\n",
    "B1 = torch.randn(256)\n",
    "B2 = torch.randn(10)\n",
    "\n",
    "h1 = activation(torch.mm(inputs, W1) + B1)\n",
    "out = activation(torch.mm(h1, W2) + B2)\n",
    "out"
   ]
  },
  {
   "cell_type": "markdown",
   "metadata": {},
   "source": [
    "Now we have 10 outputs for our network. We want to pass in an image to our network and get out a probability distribution over the classes that tells us the likely class(es) the image belongs to. Something that looks like this:\n",
    "<img src='assets/image_distribution.png' width=500px>\n",
    "\n",
    "Here we see that the probability for each class is roughly the same. This is representing an untrained network, it hasn't seen any data yet so it just returns a uniform distribution with equal probabilities for each class.\n",
    "\n",
    "To calculate this probability distribution, we often use the [**softmax** function](https://en.wikipedia.org/wiki/Softmax_function). Mathematically this looks like\n",
    "\n",
    "$$\n",
    "\\Large \\sigma(x_i) = \\cfrac{e^{x_i}}{\\sum_k^K{e^{x_k}}}\n",
    "$$\n",
    "\n",
    "What this does is squish each input $x_i$ between 0 and 1 and normalizes the values to give you a proper probability distribution where the probabilites sum up to one.\n",
    "\n",
    "> **Exercise:** Implement a function `softmax` that performs the softmax calculation and returns probability distributions for each example in the batch. Note that you'll need to pay attention to the shapes when doing this. If you have a tensor `a` with shape `(64, 10)` and a tensor `b` with shape `(64,)`, doing `a/b` will give you an error because PyTorch will try to do the division across the columns (called broadcasting) but you'll get a size mismatch. The way to think about this is for each of the 64 examples, you only want to divide by one value, the sum in the denominator. So you need `b` to have a shape of `(64, 1)`. This way PyTorch will divide the 10 values in each row of `a` by the one value in each row of `b`. Pay attention to how you take the sum as well. You'll need to define the `dim` keyword in `torch.sum`. Setting `dim=0` takes the sum across the rows while `dim=1` takes the sum across the columns."
   ]
  },
  {
   "cell_type": "code",
   "execution_count": 7,
   "metadata": {},
   "outputs": [
    {
     "name": "stdout",
     "output_type": "stream",
     "text": [
      "torch.Size([64, 10])\n",
      "tensor([1.0000, 1.0000, 1.0000, 1.0000, 1.0000, 1.0000, 1.0000, 1.0000, 1.0000,\n",
      "        1.0000, 1.0000, 1.0000, 1.0000, 1.0000, 1.0000, 1.0000, 1.0000, 1.0000,\n",
      "        1.0000, 1.0000, 1.0000, 1.0000, 1.0000, 1.0000, 1.0000, 1.0000, 1.0000,\n",
      "        1.0000, 1.0000, 1.0000, 1.0000, 1.0000, 1.0000, 1.0000, 1.0000, 1.0000,\n",
      "        1.0000, 1.0000, 1.0000, 1.0000, 1.0000, 1.0000, 1.0000, 1.0000, 1.0000,\n",
      "        1.0000, 1.0000, 1.0000, 1.0000, 1.0000, 1.0000, 1.0000, 1.0000, 1.0000,\n",
      "        1.0000, 1.0000, 1.0000, 1.0000, 1.0000, 1.0000, 1.0000, 1.0000, 1.0000,\n",
      "        1.0000])\n"
     ]
    }
   ],
   "source": [
    "def softmax(x):\n",
    "    return torch.exp(x)/torch.sum(torch.exp(x), dim=1).view(-1, 1)\n",
    "        \n",
    "\n",
    "# Here, out should be the output of the network in the previous excercise with shape (64,10)\n",
    "probabilities = softmax(out)\n",
    "\n",
    "# Does it have the right shape? Should be (64, 10)\n",
    "print(probabilities.shape)\n",
    "# Does it sum to 1?\n",
    "print(probabilities.sum(dim=1))"
   ]
  },
  {
   "cell_type": "markdown",
   "metadata": {},
   "source": [
    "## Building networks with PyTorch\n",
    "\n",
    "PyTorch provides a module `nn` that makes building networks much simpler. Here I'll show you how to build the same one as above with 784 inputs, 256 hidden units, 10 output units and a softmax output."
   ]
  },
  {
   "cell_type": "code",
   "execution_count": 8,
   "metadata": {},
   "outputs": [],
   "source": [
    "from torch import nn"
   ]
  },
  {
   "cell_type": "code",
   "execution_count": 9,
   "metadata": {},
   "outputs": [],
   "source": [
    "class Network(nn.Module):\n",
    "    def __init__(self):\n",
    "        super().__init__()\n",
    "        \n",
    "        # Inputs to hidden layer linear transformation\n",
    "        self.hidden = nn.Linear(784, 256)\n",
    "        # Output layer, 10 units - one for each digit\n",
    "        self.output = nn.Linear(256, 10)\n",
    "        \n",
    "        # Define sigmoid activation and softmax output \n",
    "        self.sigmoid = nn.Sigmoid()\n",
    "        self.softmax = nn.Softmax(dim=1)\n",
    "        \n",
    "    def forward(self, x):\n",
    "        # Pass the input tensor through each of our operations\n",
    "        x = self.hidden(x)\n",
    "        x = self.sigmoid(x)\n",
    "        x = self.output(x)\n",
    "        x = self.softmax(x)\n",
    "        \n",
    "        return x"
   ]
  },
  {
   "cell_type": "markdown",
   "metadata": {},
   "source": [
    "Let's go through this bit by bit.\n",
    "\n",
    "```python\n",
    "class Network(nn.Module):\n",
    "```\n",
    "\n",
    "Here we're inheriting from `nn.Module`. Combined with `super().__init__()` this creates a class that tracks the architecture and provides a lot of useful methods and attributes. It is mandatory to inherit from `nn.Module` when you're creating a class for your network. The name of the class itself can be anything.\n",
    "\n",
    "```python\n",
    "self.hidden = nn.Linear(784, 256)\n",
    "```\n",
    "\n",
    "This line creates a module for a linear transformation, $x\\mathbf{W} + b$, with 784 inputs and 256 outputs and assigns it to `self.hidden`. The module automatically creates the weight and bias tensors which we'll use in the `forward` method. You can access the weight and bias tensors once the network (`net`) is created with `net.hidden.weight` and `net.hidden.bias`.\n",
    "\n",
    "```python\n",
    "self.output = nn.Linear(256, 10)\n",
    "```\n",
    "\n",
    "Similarly, this creates another linear transformation with 256 inputs and 10 outputs.\n",
    "\n",
    "```python\n",
    "self.sigmoid = nn.Sigmoid()\n",
    "self.softmax = nn.Softmax(dim=1)\n",
    "```\n",
    "\n",
    "Here I defined operations for the sigmoid activation and softmax output. Setting `dim=1` in `nn.Softmax(dim=1)` calculates softmax across the columns.\n",
    "\n",
    "```python\n",
    "def forward(self, x):\n",
    "```\n",
    "\n",
    "PyTorch networks created with `nn.Module` must have a `forward` method defined. It takes in a tensor `x` and passes it through the operations you defined in the `__init__` method.\n",
    "\n",
    "```python\n",
    "x = self.hidden(x)\n",
    "x = self.sigmoid(x)\n",
    "x = self.output(x)\n",
    "x = self.softmax(x)\n",
    "```\n",
    "\n",
    "Here the input tensor `x` is passed through each operation and reassigned to `x`. We can see that the input tensor goes through the hidden layer, then a sigmoid function, then the output layer, and finally the softmax function. It doesn't matter what you name the variables here, as long as the inputs and outputs of the operations match the network architecture you want to build. The order in which you define things in the `__init__` method doesn't matter, but you'll need to sequence the operations correctly in the `forward` method.\n",
    "\n",
    "Now we can create a `Network` object."
   ]
  },
  {
   "cell_type": "code",
   "execution_count": 10,
   "metadata": {},
   "outputs": [
    {
     "data": {
      "text/plain": [
       "Network(\n",
       "  (hidden): Linear(in_features=784, out_features=256, bias=True)\n",
       "  (output): Linear(in_features=256, out_features=10, bias=True)\n",
       "  (sigmoid): Sigmoid()\n",
       "  (softmax): Softmax(dim=1)\n",
       ")"
      ]
     },
     "execution_count": 10,
     "metadata": {},
     "output_type": "execute_result"
    }
   ],
   "source": [
    "# Create the network and look at it's text representation\n",
    "model = Network()\n",
    "model"
   ]
  },
  {
   "cell_type": "markdown",
   "metadata": {},
   "source": [
    "You can define the network somewhat more concisely and clearly using the `torch.nn.functional` module. This is the most common way you'll see networks defined as many operations are simple element-wise functions. We normally import this module as `F`, `import torch.nn.functional as F`."
   ]
  },
  {
   "cell_type": "code",
   "execution_count": 11,
   "metadata": {},
   "outputs": [],
   "source": [
    "import torch.nn.functional as F\n",
    "\n",
    "class Network(nn.Module):\n",
    "    def __init__(self):\n",
    "        super().__init__()\n",
    "        # Inputs to hidden layer linear transformation\n",
    "        self.hidden = nn.Linear(784, 256)\n",
    "        # Output layer, 10 units - one for each digit\n",
    "        self.output = nn.Linear(256, 10)\n",
    "        \n",
    "    def forward(self, x):\n",
    "        # Hidden layer with sigmoid activation\n",
    "        x = F.sigmoid(self.hidden(x))\n",
    "        # Output layer with softmax activation\n",
    "        x = F.softmax(self.output(x), dim=1)\n",
    "        \n",
    "        return x"
   ]
  },
  {
   "cell_type": "markdown",
   "metadata": {},
   "source": [
    "### Activation functions\n",
    "\n",
    "So far we've only been looking at the sigmoid activation function, but in general any function can be used as an activation function. The only requirement is that for a network to approximate a non-linear function, the activation functions must be non-linear. Here are a few more examples of common activation functions: Tanh (hyperbolic tangent), and ReLU (rectified linear unit).\n",
    "\n",
    "<img src=\"assets/activation.png\" width=700px>\n",
    "\n",
    "In practice, the ReLU function is used almost exclusively as the activation function for hidden layers."
   ]
  },
  {
   "cell_type": "markdown",
   "metadata": {},
   "source": [
    "### Your Turn to Build a Network\n",
    "\n",
    "<img src=\"assets/mlp_mnist.png\" width=600px>\n",
    "\n",
    "> **Exercise:** Create a network with 784 input units, a hidden layer with 128 units and a ReLU activation, then a hidden layer with 64 units and a ReLU activation, and finally an output layer with a softmax activation as shown above. You can use a ReLU activation with the `nn.ReLU` module or `F.relu` function.\n",
    "\n",
    "It's good practice to name your layers by their type of network, for instance 'fc' to represent a fully-connected layer. As you code your solution, use `fc1`, `fc2`, and `fc3` as your layer names."
   ]
  },
  {
   "cell_type": "code",
   "execution_count": 30,
   "metadata": {
    "scrolled": true
   },
   "outputs": [],
   "source": [
    "## Your solution here\n",
    "import torch.nn.functional as F\n",
    "\n",
    "class my_net(nn.Module):\n",
    "    def __init__(self):\n",
    "        super().__init__()\n",
    "        \n",
    "        self.fc1 = nn.Linear(784, 128)\n",
    "        self.fc2 = nn.Linear(128, 64)\n",
    "        self.fc3 = nn.Linear(64, 10)\n",
    "        \n",
    "        self.relu = nn.ReLU()\n",
    "        self.softmax = nn.Softmax(dim=1)\n",
    "    \n",
    "    def forward(self, x):\n",
    "        x = self.relu(self.fc1(x))\n",
    "        x = self.relu(self.fc2(x))\n",
    "        x = self.softmax(self.fc3(x))\n",
    "        return x\n",
    "    \n",
    "model = my_net()"
   ]
  },
  {
   "cell_type": "markdown",
   "metadata": {},
   "source": [
    "### Initializing weights and biases\n",
    "\n",
    "The weights and such are automatically initialized for you, but it's possible to customize how they are initialized. The weights and biases are tensors attached to the layer you defined, you can get them with `model.fc1.weight` for instance."
   ]
  },
  {
   "cell_type": "code",
   "execution_count": 31,
   "metadata": {},
   "outputs": [
    {
     "name": "stdout",
     "output_type": "stream",
     "text": [
      "Parameter containing:\n",
      "tensor([[-2.4726e-02, -1.7604e-02,  8.9339e-03,  ..., -3.1326e-02,\n",
      "         -2.5936e-02, -8.3761e-03],\n",
      "        [ 5.8799e-03,  2.5241e-02, -3.4553e-02,  ..., -2.1552e-02,\n",
      "         -1.2743e-02, -3.0898e-02],\n",
      "        [-2.5781e-02,  2.0920e-02,  6.3887e-03,  ..., -3.4378e-02,\n",
      "          1.1237e-02,  3.4571e-03],\n",
      "        ...,\n",
      "        [ 1.4132e-02,  6.7180e-03,  2.0833e-02,  ..., -3.1271e-02,\n",
      "         -2.5928e-02,  5.6857e-03],\n",
      "        [-2.2420e-02, -2.4730e-02, -1.6703e-04,  ...,  3.4500e-02,\n",
      "         -2.0663e-02, -3.4249e-02],\n",
      "        [-3.0455e-02, -2.0548e-02, -2.2830e-02,  ..., -3.1424e-03,\n",
      "         -2.0988e-05,  3.4619e-02]], requires_grad=True)\n",
      "Parameter containing:\n",
      "tensor([-0.0117, -0.0341, -0.0342,  0.0185, -0.0356, -0.0342, -0.0288,  0.0058,\n",
      "        -0.0061,  0.0052,  0.0327, -0.0230, -0.0296, -0.0179,  0.0139,  0.0316,\n",
      "        -0.0100, -0.0321, -0.0020,  0.0208,  0.0284,  0.0270,  0.0349,  0.0331,\n",
      "         0.0184, -0.0265,  0.0175, -0.0073, -0.0270,  0.0108,  0.0182, -0.0126,\n",
      "         0.0237, -0.0246, -0.0092,  0.0152,  0.0183, -0.0157,  0.0265,  0.0245,\n",
      "         0.0056,  0.0081, -0.0160,  0.0324,  0.0348,  0.0352,  0.0254,  0.0217,\n",
      "        -0.0111,  0.0168, -0.0192,  0.0215,  0.0197,  0.0303, -0.0064, -0.0330,\n",
      "         0.0002,  0.0147,  0.0249, -0.0043,  0.0111,  0.0304,  0.0045,  0.0103,\n",
      "         0.0229, -0.0307, -0.0342, -0.0036,  0.0142,  0.0192,  0.0144,  0.0198,\n",
      "         0.0233, -0.0256,  0.0049, -0.0348,  0.0237,  0.0218, -0.0315,  0.0008,\n",
      "        -0.0026, -0.0160, -0.0045,  0.0217, -0.0104, -0.0236,  0.0123,  0.0343,\n",
      "         0.0315,  0.0165,  0.0097, -0.0043,  0.0081,  0.0104,  0.0190, -0.0010,\n",
      "        -0.0325, -0.0306,  0.0348,  0.0267, -0.0294,  0.0062, -0.0340, -0.0293,\n",
      "        -0.0033, -0.0225,  0.0355, -0.0340, -0.0045, -0.0019, -0.0061,  0.0059,\n",
      "        -0.0273,  0.0174, -0.0299, -0.0131, -0.0111,  0.0030, -0.0330, -0.0332,\n",
      "         0.0196,  0.0334,  0.0299,  0.0062,  0.0014, -0.0169, -0.0066,  0.0163],\n",
      "       requires_grad=True)\n"
     ]
    }
   ],
   "source": [
    "print(model.fc1.weight)\n",
    "print(model.fc1.bias)"
   ]
  },
  {
   "cell_type": "markdown",
   "metadata": {},
   "source": [
    "For custom initialization, we want to modify these tensors in place. These are actually autograd *Variables*, so we need to get back the actual tensors with `model.fc1.weight.data`. Once we have the tensors, we can fill them with zeros (for biases) or random normal values."
   ]
  },
  {
   "cell_type": "code",
   "execution_count": 32,
   "metadata": {},
   "outputs": [
    {
     "data": {
      "text/plain": [
       "tensor([0., 0., 0., 0., 0., 0., 0., 0., 0., 0., 0., 0., 0., 0., 0., 0., 0., 0., 0., 0., 0., 0., 0., 0.,\n",
       "        0., 0., 0., 0., 0., 0., 0., 0., 0., 0., 0., 0., 0., 0., 0., 0., 0., 0., 0., 0., 0., 0., 0., 0.,\n",
       "        0., 0., 0., 0., 0., 0., 0., 0., 0., 0., 0., 0., 0., 0., 0., 0., 0., 0., 0., 0., 0., 0., 0., 0.,\n",
       "        0., 0., 0., 0., 0., 0., 0., 0., 0., 0., 0., 0., 0., 0., 0., 0., 0., 0., 0., 0., 0., 0., 0., 0.,\n",
       "        0., 0., 0., 0., 0., 0., 0., 0., 0., 0., 0., 0., 0., 0., 0., 0., 0., 0., 0., 0., 0., 0., 0., 0.,\n",
       "        0., 0., 0., 0., 0., 0., 0., 0.])"
      ]
     },
     "execution_count": 32,
     "metadata": {},
     "output_type": "execute_result"
    }
   ],
   "source": [
    "# Set biases to all zeros\n",
    "model.fc1.bias.data.fill_(0)"
   ]
  },
  {
   "cell_type": "code",
   "execution_count": 33,
   "metadata": {},
   "outputs": [
    {
     "data": {
      "text/plain": [
       "tensor([[-0.0038, -0.0158,  0.0028,  ...,  0.0088, -0.0075, -0.0175],\n",
       "        [ 0.0245, -0.0231, -0.0147,  ...,  0.0029, -0.0032,  0.0179],\n",
       "        [ 0.0071, -0.0032, -0.0120,  ...,  0.0018,  0.0158, -0.0020],\n",
       "        ...,\n",
       "        [-0.0107, -0.0069, -0.0147,  ...,  0.0070,  0.0039, -0.0077],\n",
       "        [ 0.0022,  0.0008,  0.0117,  ...,  0.0029, -0.0071,  0.0039],\n",
       "        [-0.0069, -0.0074, -0.0026,  ..., -0.0329,  0.0017,  0.0161]])"
      ]
     },
     "execution_count": 33,
     "metadata": {},
     "output_type": "execute_result"
    }
   ],
   "source": [
    "# sample from random normal with standard dev = 0.01\n",
    "model.fc1.weight.data.normal_(std=0.01)"
   ]
  },
  {
   "cell_type": "markdown",
   "metadata": {},
   "source": [
    "### Forward pass\n",
    "\n",
    "Now that we have a network, let's see what happens when we pass in an image."
   ]
  },
  {
   "cell_type": "code",
   "execution_count": 34,
   "metadata": {},
   "outputs": [
    {
     "data": {
      "image/png": "[encoded data removed]",
      "text/plain": [
       "<Figure size 432x648 with 2 Axes>"
      ]
     },
     "metadata": {
      "image/png": {
       "height": 235,
       "width": 424
      },
      "needs_background": "light"
     },
     "output_type": "display_data"
    }
   ],
   "source": [
    "# Grab some data \n",
    "dataiter = iter(trainloader)\n",
    "images, labels = dataiter.next()\n",
    "\n",
    "# Resize images into a 1D vector, new shape is (batch size, color channels, image pixels) \n",
    "images.resize_(64, 1, 784)\n",
    "# or images.resize_(images.shape[0], 1, 784) to automatically get batch size\n",
    "\n",
    "# Forward pass through the network\n",
    "img_idx = 0\n",
    "ps = model.forward(images[img_idx,:])\n",
    "\n",
    "img = images[img_idx]\n",
    "helper.view_classify(img.view(1, 28, 28), ps)"
   ]
  },
  {
   "cell_type": "markdown",
   "metadata": {},
   "source": [
    "As you can see above, our network has basically no idea what this digit is. It's because we haven't trained it yet, all the weights are random!\n",
    "\n",
    "### Using `nn.Sequential`\n",
    "\n",
    "PyTorch provides a convenient way to build networks like this where a tensor is passed sequentially through operations, `nn.Sequential` ([documentation](https://pytorch.org/docs/master/nn.html#torch.nn.Sequential)). Using this to build the equivalent network:"
   ]
  },
  {
   "cell_type": "code",
   "execution_count": 35,
   "metadata": {},
   "outputs": [
    {
     "name": "stdout",
     "output_type": "stream",
     "text": [
      "Sequential(\n",
      "  (0): Linear(in_features=784, out_features=128, bias=True)\n",
      "  (1): ReLU()\n",
      "  (2): Linear(in_features=128, out_features=64, bias=True)\n",
      "  (3): ReLU()\n",
      "  (4): Linear(in_features=64, out_features=10, bias=True)\n",
      "  (5): Softmax(dim=1)\n",
      ")\n"
     ]
    },
    {
     "data": {
      "image/png": "[encoded data removed]",
      "text/plain": [
       "<Figure size 432x648 with 2 Axes>"
      ]
     },
     "metadata": {
      "image/png": {
       "height": 235,
       "width": 424
      },
      "needs_background": "light"
     },
     "output_type": "display_data"
    }
   ],
   "source": [
    "# Hyperparameters for our network\n",
    "input_size = 784\n",
    "hidden_sizes = [128, 64]\n",
    "output_size = 10\n",
    "\n",
    "# Build a feed-forward network\n",
    "model = nn.Sequential(nn.Linear(input_size, hidden_sizes[0]),\n",
    "                      nn.ReLU(),\n",
    "                      nn.Linear(hidden_sizes[0], hidden_sizes[1]),\n",
    "                      nn.ReLU(),\n",
    "                      nn.Linear(hidden_sizes[1], output_size),\n",
    "                      nn.Softmax(dim=1))\n",
    "print(model)\n",
    "\n",
    "# Forward pass through the network and display output\n",
    "images, labels = next(iter(trainloader))\n",
    "images.resize_(images.shape[0], 1, 784)\n",
    "ps = model.forward(images[0,:])\n",
    "helper.view_classify(images[0].view(1, 28, 28), ps)"
   ]
  },
  {
   "cell_type": "markdown",
   "metadata": {},
   "source": [
    "Here our model is the same as before: 784 input units, a hidden layer with 128 units, ReLU activation, 64 unit hidden layer, another ReLU, then the output layer with 10 units, and the softmax output.\n",
    "\n",
    "The operations are available by passing in the appropriate index. For example, if you want to get first Linear operation and look at the weights, you'd use `model[0]`."
   ]
  },
  {
   "cell_type": "code",
   "execution_count": null,
   "metadata": {
    "collapsed": true
   },
   "outputs": [],
   "source": [
    "print(model[0])\n",
    "model[0].weight"
   ]
  },
  {
   "cell_type": "markdown",
   "metadata": {},
   "source": [
    "You can also pass in an `OrderedDict` to name the individual layers and operations, instead of using incremental integers. Note that dictionary keys must be unique, so _each operation must have a different name_."
   ]
  },
  {
   "cell_type": "code",
   "execution_count": null,
   "metadata": {
    "collapsed": true
   },
   "outputs": [],
   "source": [
    "from collections import OrderedDict\n",
    "model = nn.Sequential(OrderedDict([\n",
    "                      ('fc1', nn.Linear(input_size, hidden_sizes[0])),\n",
    "                      ('relu1', nn.ReLU()),\n",
    "                      ('fc2', nn.Linear(hidden_sizes[0], hidden_sizes[1])),\n",
    "                      ('relu2', nn.ReLU()),\n",
    "                      ('output', nn.Linear(hidden_sizes[1], output_size)),\n",
    "                      ('softmax', nn.Softmax(dim=1))]))\n",
    "model"
   ]
  },
  {
   "cell_type": "markdown",
   "metadata": {},
   "source": [
    "Now you can access layers either by integer or the name"
   ]
  },
  {
   "cell_type": "code",
   "execution_count": null,
   "metadata": {
    "collapsed": true
   },
   "outputs": [],
   "source": [
    "print(model[0])\n",
    "print(model.fc1)"
   ]
  },
  {
   "cell_type": "markdown",
   "metadata": {},
   "source": [
    "In the next notebook, we'll see how we can train a neural network to accuractly predict the numbers appearing in the MNIST images."
   ]
  }
 ],
 "metadata": {
  "kernelspec": {
   "display_name": "Python 3",
   "language": "python",
   "name": "python3"
  },
  "language_info": {
   "codemirror_mode": {
    "name": "ipython",
    "version": 3
   },
   "file_extension": ".py",
   "mimetype": "text/x-python",
   "name": "python",
   "nbconvert_exporter": "python",
   "pygments_lexer": "ipython3",
   "version": "3.7.9"
  }
 },
 "nbformat": 4,
 "nbformat_minor": 2
}
